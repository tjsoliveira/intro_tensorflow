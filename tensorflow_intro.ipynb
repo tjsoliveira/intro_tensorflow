{
  "nbformat": 4,
  "nbformat_minor": 0,
  "metadata": {
    "colab": {
      "name": "tensorflow_intro.ipynb",
      "provenance": [],
      "collapsed_sections": [
        "rX8mhOLljYeM"
      ],
      "toc_visible": true,
      "include_colab_link": true
    },
    "kernelspec": {
      "display_name": "Python 3",
      "name": "python3"
    }
  },
  "cells": [
    {
      "cell_type": "markdown",
      "metadata": {
        "id": "view-in-github",
        "colab_type": "text"
      },
      "source": [
        "<a href=\"https://colab.research.google.com/github/tjsoliveira/intro_tensorflow/blob/main/tensorflow_intro.ipynb\" target=\"_parent\"><img src=\"https://colab.research.google.com/assets/colab-badge.svg\" alt=\"Open In Colab\"/></a>"
      ]
    },
    {
      "cell_type": "markdown",
      "metadata": {
        "id": "rOJmTfgzgvLK"
      },
      "source": [
        "# **TensorFlow**"
      ]
    },
    {
      "cell_type": "code",
      "metadata": {
        "id": "0trJmd6DjqBZ"
      },
      "source": [
        "from __future__ import absolute_import, division, print_function, unicode_literals\n",
        "\n",
        "# Install TensorFlow\n",
        "try:\n",
        "  # %tensorflow_version only exists in Colab.\n",
        "  %tensorflow_version 2.x\n",
        "except Exception:\n",
        "  pass\n",
        "\n",
        "import tensorflow as tf"
      ],
      "execution_count": 4,
      "outputs": []
    },
    {
      "cell_type": "markdown",
      "metadata": {
        "id": "yqXzdAiLaZW6"
      },
      "source": [
        "# **Tensor**\n",
        "\n",
        "É um vetor n-dimensional usado para representar conjuntos de dados com múltiplas dimensões.\n",
        "\n",
        "À medida que a dimensão cresce, os dados tornam-se mais complexos. Tensores podemm ser **constantes** ou **variáveis**.\n"
      ]
    },
    {
      "cell_type": "code",
      "metadata": {
        "id": "IR1zqBurajD6",
        "colab": {
          "base_uri": "https://localhost:8080/"
        },
        "outputId": "b21503f8-6f82-405f-df8b-a677e15c840f"
      },
      "source": [
        "# Escalar: tensor rank 0 com formmto [ ]\n",
        "escalar = 3\n",
        "\n",
        "# Vetor: tensor rank 1 com formato [3] - 3 linhas\n",
        "vetor = [1, 2, 3]\n",
        "\n",
        "# Matriz: tensor rank 2 com formato [2, 3] - 2 linhas e 3 colunas\n",
        "matriz = [[1,2 ,3], [4, 5, 6]]\n",
        "\n",
        "# Tensor: tensor rank 3 com formato [2, 1, 3]\n",
        "tensor = [[[1, 2, 3]], [[7, 8, 9]]]"
      ],
      "execution_count": 2,
      "outputs": [
        {
          "output_type": "execute_result",
          "data": {
            "text/plain": [
              "[[[1, 2, 3]], [[7, 8, 9]]]"
            ]
          },
          "metadata": {},
          "execution_count": 2
        }
      ]
    },
    {
      "cell_type": "code",
      "metadata": {
        "colab": {
          "base_uri": "https://localhost:8080/"
        },
        "id": "Khc_kKHJtktd",
        "outputId": "0fbc3caa-3215-4a1c-a81f-39fd7639e0e5"
      },
      "source": [
        "# Criando um Tensor Rank 4\n",
        "tensor = tf.zeros(shape=[2, 3, 4, 5])\n",
        "tensor"
      ],
      "execution_count": 61,
      "outputs": [
        {
          "output_type": "execute_result",
          "data": {
            "text/plain": [
              "<tf.Tensor: shape=(2, 3, 4, 5), dtype=float32, numpy=\n",
              "array([[[[0., 0., 0., 0., 0.],\n",
              "         [0., 0., 0., 0., 0.],\n",
              "         [0., 0., 0., 0., 0.],\n",
              "         [0., 0., 0., 0., 0.]],\n",
              "\n",
              "        [[0., 0., 0., 0., 0.],\n",
              "         [0., 0., 0., 0., 0.],\n",
              "         [0., 0., 0., 0., 0.],\n",
              "         [0., 0., 0., 0., 0.]],\n",
              "\n",
              "        [[0., 0., 0., 0., 0.],\n",
              "         [0., 0., 0., 0., 0.],\n",
              "         [0., 0., 0., 0., 0.],\n",
              "         [0., 0., 0., 0., 0.]]],\n",
              "\n",
              "\n",
              "       [[[0., 0., 0., 0., 0.],\n",
              "         [0., 0., 0., 0., 0.],\n",
              "         [0., 0., 0., 0., 0.],\n",
              "         [0., 0., 0., 0., 0.]],\n",
              "\n",
              "        [[0., 0., 0., 0., 0.],\n",
              "         [0., 0., 0., 0., 0.],\n",
              "         [0., 0., 0., 0., 0.],\n",
              "         [0., 0., 0., 0., 0.]],\n",
              "\n",
              "        [[0., 0., 0., 0., 0.],\n",
              "         [0., 0., 0., 0., 0.],\n",
              "         [0., 0., 0., 0., 0.],\n",
              "         [0., 0., 0., 0., 0.]]]], dtype=float32)>"
            ]
          },
          "metadata": {},
          "execution_count": 61
        }
      ]
    },
    {
      "cell_type": "code",
      "metadata": {
        "colab": {
          "base_uri": "https://localhost:8080/"
        },
        "id": "581WkPuXeFYU",
        "outputId": "d20ef39c-a587-4d5b-dc62-a870d3dbbd33"
      },
      "source": [
        "# Criando uma matriz de zeros\n",
        "matriz_0 = tf.zeros(shape=(2, 2))\n",
        "# Criando uma matriz\n",
        "matriz_1 = tf.ones(shape=(2, 2))\n",
        "\n",
        "# Somando a soma de todos os elementos da matriz_1\n",
        "tf.reduce_sum(matriz_1).numpy()"
      ],
      "execution_count": 16,
      "outputs": [
        {
          "output_type": "execute_result",
          "data": {
            "text/plain": [
              "4.0"
            ]
          },
          "metadata": {},
          "execution_count": 16
        }
      ]
    },
    {
      "cell_type": "markdown",
      "metadata": {
        "id": "-T2oejcttwT6"
      },
      "source": [
        "**Atributos de um Tensor**"
      ]
    },
    {
      "cell_type": "code",
      "metadata": {
        "colab": {
          "base_uri": "https://localhost:8080/"
        },
        "id": "fsv6tqp2ty1d",
        "outputId": "a155243a-ec7f-4c25-9e61-9e644c925be6"
      },
      "source": [
        "print('Tipo de Dado: ', tensor.dtype)\n",
        "\n",
        "print('Número de dimensões: ', tensor.ndim)\n",
        "\n",
        "print('Formato do Tensor: ', tensor.shape)\n",
        "\n",
        "print('Elementos do Eixo 0: ', tensor.shape[0])\n",
        "\n",
        "print('Elementos do último Eixo: ', tensor.shape[-1])\n",
        "\n",
        "print('Total de Elementos: ', tf.size(tensor).numpy())"
      ],
      "execution_count": 73,
      "outputs": [
        {
          "output_type": "stream",
          "text": [
            "Tipo de Dado:  <dtype: 'float32'>\n",
            "Número de dimensões:  4\n",
            "Formato do Tensor:  (2, 3, 4, 5)\n",
            "Elementos do Eixo 0:  2\n",
            "Elementos do último Eixo:  5\n",
            "Total de Elementos:  120\n"
          ],
          "name": "stdout"
        }
      ]
    },
    {
      "cell_type": "code",
      "metadata": {
        "colab": {
          "base_uri": "https://localhost:8080/"
        },
        "id": "oz5DeQN9u_79",
        "outputId": "f189b851-3119-408c-aa50-98b760ee29bf"
      },
      "source": [
        "# Os dois primeiros itens de cada dimensão'\n",
        "tensor[:2, :2, :2, :2]"
      ],
      "execution_count": 76,
      "outputs": [
        {
          "output_type": "execute_result",
          "data": {
            "text/plain": [
              "<tf.Tensor: shape=(2, 2, 2, 2), dtype=float32, numpy=\n",
              "array([[[[0., 0.],\n",
              "         [0., 0.]],\n",
              "\n",
              "        [[0., 0.],\n",
              "         [0., 0.]]],\n",
              "\n",
              "\n",
              "       [[[0., 0.],\n",
              "         [0., 0.]],\n",
              "\n",
              "        [[0., 0.],\n",
              "         [0., 0.]]]], dtype=float32)>"
            ]
          },
          "metadata": {},
          "execution_count": 76
        }
      ]
    },
    {
      "cell_type": "code",
      "metadata": {
        "colab": {
          "base_uri": "https://localhost:8080/"
        },
        "id": "FdQODzdFvD4E",
        "outputId": "1914f9cb-a162-4a65-b00e-8755a2551219"
      },
      "source": [
        "# Obtém a dimensão de cada índice, exceto o final\n",
        "tensor[:1, :1, :1, :]"
      ],
      "execution_count": 77,
      "outputs": [
        {
          "output_type": "execute_result",
          "data": {
            "text/plain": [
              "<tf.Tensor: shape=(1, 1, 1, 5), dtype=float32, numpy=array([[[[0., 0., 0., 0., 0.]]]], dtype=float32)>"
            ]
          },
          "metadata": {},
          "execution_count": 77
        }
      ]
    },
    {
      "cell_type": "code",
      "metadata": {
        "colab": {
          "base_uri": "https://localhost:8080/"
        },
        "id": "2_o7z1GQvaft",
        "outputId": "ab5f13f3-901e-4f33-be34-00b775018c6d"
      },
      "source": [
        "# Obtém o último item de cada linha\n",
        "tensor[:, -1]"
      ],
      "execution_count": 80,
      "outputs": [
        {
          "output_type": "execute_result",
          "data": {
            "text/plain": [
              "<tf.Tensor: shape=(2, 4, 5), dtype=float32, numpy=\n",
              "array([[[0., 0., 0., 0., 0.],\n",
              "        [0., 0., 0., 0., 0.],\n",
              "        [0., 0., 0., 0., 0.],\n",
              "        [0., 0., 0., 0., 0.]],\n",
              "\n",
              "       [[0., 0., 0., 0., 0.],\n",
              "        [0., 0., 0., 0., 0.],\n",
              "        [0., 0., 0., 0., 0.],\n",
              "        [0., 0., 0., 0., 0.]]], dtype=float32)>"
            ]
          },
          "metadata": {},
          "execution_count": 80
        }
      ]
    },
    {
      "cell_type": "markdown",
      "metadata": {
        "id": "vw5k-xnKgB6F"
      },
      "source": [
        "# Grafo Computacional\n",
        "\n",
        "Grafos são modelos matemáticos para resolver problemas práticos do dia a dia, com várias aplicações no mundo real como: circuitos elétricos, redes de distribuição, relações de parentesco entre pessoas, análise de redes sociais, entre outros.\n",
        "\n",
        "Grafos são muito utilizados para modelar problemas em computação.\n",
        "\n",
        "É um modelo matemático que representa relações entre objetos. Um grafo G = (V, E) consiste em um conjunto de vértices V (também chamados de nós) ligados por um conjunto de bordas ou arestas (E)"
      ]
    },
    {
      "cell_type": "markdown",
      "metadata": {
        "id": "f26DBg3BiusZ"
      },
      "source": [
        "**Hello, World!**"
      ]
    },
    {
      "cell_type": "code",
      "metadata": {
        "colab": {
          "base_uri": "https://localhost:8080/"
        },
        "id": "OOJcns9Nkb4V",
        "outputId": "6f7ff7ae-32de-47a0-81e3-587bd08c6f38"
      },
      "source": [
        "tf.constant('Hello, World')"
      ],
      "execution_count": 53,
      "outputs": [
        {
          "output_type": "execute_result",
          "data": {
            "text/plain": [
              "<tf.Tensor: shape=(), dtype=string, numpy=b'Hello, World'>"
            ]
          },
          "metadata": {},
          "execution_count": 53
        }
      ]
    },
    {
      "cell_type": "markdown",
      "metadata": {
        "id": "7AJjZg60m6WS"
      },
      "source": [
        "# Operações com Tensores"
      ]
    },
    {
      "cell_type": "markdown",
      "metadata": {
        "id": "unER7I3TnfOj"
      },
      "source": [
        "**Soma**"
      ]
    },
    {
      "cell_type": "code",
      "metadata": {
        "colab": {
          "base_uri": "https://localhost:8080/"
        },
        "id": "otVMYWngm9Nz",
        "outputId": "1bebe995-f735-423a-b893-d451bc14ac97"
      },
      "source": [
        "const_a = tf.constant(5, dtype=tf.int32)\n",
        "const_b = tf.constant(9, dtype=tf.int32)\n",
        "\n",
        "print(const_a + const_b)\n",
        "# ou \n",
        "print(tf.add(const_a, const_b))"
      ],
      "execution_count": 55,
      "outputs": [
        {
          "output_type": "stream",
          "text": [
            "tf.Tensor(14, shape=(), dtype=int32)\n",
            "tf.Tensor(14, shape=(), dtype=int32)\n"
          ],
          "name": "stdout"
        }
      ]
    },
    {
      "cell_type": "markdown",
      "metadata": {
        "id": "DqOF6ukEnh6k"
      },
      "source": [
        "**Subtração**"
      ]
    },
    {
      "cell_type": "code",
      "metadata": {
        "colab": {
          "base_uri": "https://localhost:8080/"
        },
        "id": "9QM6ckq3njrC",
        "outputId": "1dd82823-9121-4c7a-c66a-42dde8fa6145"
      },
      "source": [
        "# Criando tensor aleatório utilizando distribuição normal e com a média\n",
        "# dos valores igual a 2\n",
        "rand_a = tf.random.normal([3], 2.0)\n",
        "rand_b = tf.random.uniform([3], 1.0, 4.0)\n",
        "\n",
        "# print(tf.math.segment_mean(rand_a, tf.constant([0, 0, 0])))\n",
        "tf.subtract(rand_a, rand_b)"
      ],
      "execution_count": 46,
      "outputs": [
        {
          "output_type": "stream",
          "text": [
            "tf.Tensor([ 0.48192477 -0.10165691  1.3964013 ], shape=(3,), dtype=float32)\n"
          ],
          "name": "stdout"
        }
      ]
    },
    {
      "cell_type": "markdown",
      "metadata": {
        "id": "SB1icQe_qzAO"
      },
      "source": [
        "**Divisão**"
      ]
    },
    {
      "cell_type": "code",
      "metadata": {
        "colab": {
          "base_uri": "https://localhost:8080/"
        },
        "id": "wf2dv6kRq0T4",
        "outputId": "dd723e65-176d-4e93-fbcd-a3dbfaa3a3fb"
      },
      "source": [
        "node1 = tf.constant(21, dtype=tf.int32)\n",
        "node2 = tf.constant(7, dtype=tf.int32)\n",
        "\n",
        "tf.math.truediv(node1, node2)"
      ],
      "execution_count": 49,
      "outputs": [
        {
          "output_type": "stream",
          "text": [
            "tf.Tensor(3.0, shape=(), dtype=float64)\n"
          ],
          "name": "stdout"
        }
      ]
    },
    {
      "cell_type": "markdown",
      "metadata": {
        "id": "EeLLHFfarFmx"
      },
      "source": [
        "**Multiplicação**"
      ]
    },
    {
      "cell_type": "code",
      "metadata": {
        "colab": {
          "base_uri": "https://localhost:8080/"
        },
        "id": "HnNNkWNHrINU",
        "outputId": "109fb2b2-b429-476c-8fd3-f996881377cf"
      },
      "source": [
        "tensor_a = tf.constant([[4., 2.]])\n",
        "tensor_b = tf.constant([[3.], [7.]])\n",
        "\n",
        "# Multiplicando matrizes\n",
        "tf.math.multiply(tensor_a, tensor_b)"
      ],
      "execution_count": 52,
      "outputs": [
        {
          "output_type": "execute_result",
          "data": {
            "text/plain": [
              "<tf.Tensor: shape=(2, 2), dtype=float32, numpy=\n",
              "array([[12.,  6.],\n",
              "       [28., 14.]], dtype=float32)>"
            ]
          },
          "metadata": {},
          "execution_count": 52
        }
      ]
    },
    {
      "cell_type": "markdown",
      "metadata": {
        "id": "TuCBQoLJscs7"
      },
      "source": [
        "**Tensor Variável X Constante**"
      ]
    },
    {
      "cell_type": "code",
      "metadata": {
        "colab": {
          "base_uri": "https://localhost:8080/"
        },
        "id": "SNWRVr6hsh6S",
        "outputId": "2e5a9ad2-c30e-41fe-af16-a5c4274f99d1"
      },
      "source": [
        "tensor_variavel = tf.Variable([10, 7])\n",
        "tensor_constante = tf.constant([10, 7])\n",
        "\n",
        "# Isto daria erro!\n",
        "# tensor_constante[0] = 7\n",
        "tensor_variavel[0].assign(7)\n",
        "\n",
        "tensor_variavel\n",
        "\n",
        "# Isto também daria erro!\n",
        "# tensor_constante[0].assign(7)"
      ],
      "execution_count": 60,
      "outputs": [
        {
          "output_type": "execute_result",
          "data": {
            "text/plain": [
              "<tf.Variable 'Variable:0' shape=(2,) dtype=int32, numpy=array([7, 7], dtype=int32)>"
            ]
          },
          "metadata": {},
          "execution_count": 60
        }
      ]
    }
  ]
}